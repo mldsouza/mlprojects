{
 "cells": [
  {
   "cell_type": "code",
   "execution_count": 6,
   "id": "36f451fc",
   "metadata": {},
   "outputs": [],
   "source": [
    "import pandas as pd\n",
    "import numpy as np\n",
    "from sklearn.linear_model import LinearRegression"
   ]
  },
  {
   "cell_type": "code",
   "execution_count": 7,
   "id": "f37638c7",
   "metadata": {},
   "outputs": [],
   "source": [
    "data=pd.read_csv('marks.csv')"
   ]
  },
  {
   "cell_type": "code",
   "execution_count": 8,
   "id": "10b947f1",
   "metadata": {},
   "outputs": [
    {
     "name": "stdout",
     "output_type": "stream",
     "text": [
      "(14, 4)\n"
     ]
    }
   ],
   "source": [
    "print(data.shape)"
   ]
  },
  {
   "cell_type": "code",
   "execution_count": 9,
   "id": "4db0a054",
   "metadata": {},
   "outputs": [
    {
     "name": "stdout",
     "output_type": "stream",
     "text": [
      "   hours  age  internet  marks\n",
      "0   6.83   15         1  78.50\n",
      "1   6.56   16         0  76.64\n",
      "2    NaN   17         1  78.68\n",
      "3   5.67   18         0  71.82\n",
      "4   8.67   19         1  84.19\n"
     ]
    }
   ],
   "source": [
    "print(data.head(5))"
   ]
  },
  {
   "cell_type": "code",
   "execution_count": 11,
   "id": "5c9b07ce",
   "metadata": {},
   "outputs": [
    {
     "data": {
      "text/plain": [
       "Index(['hours'], dtype='object')"
      ]
     },
     "execution_count": 11,
     "metadata": {},
     "output_type": "execute_result"
    }
   ],
   "source": [
    "data.columns[data.isna().any()]"
   ]
  },
  {
   "cell_type": "code",
   "execution_count": 13,
   "id": "6865fc3c",
   "metadata": {},
   "outputs": [],
   "source": [
    "data.hours = data.hours.fillna(data.hours.mean())"
   ]
  },
  {
   "cell_type": "code",
   "execution_count": 15,
   "id": "1dd35903",
   "metadata": {},
   "outputs": [
    {
     "data": {
      "text/plain": [
       "0     6.830000\n",
       "1     6.560000\n",
       "2     7.206154\n",
       "3     5.670000\n",
       "4     8.670000\n",
       "5     7.550000\n",
       "6     6.670000\n",
       "7     8.990000\n",
       "8     5.190000\n",
       "9     6.750000\n",
       "10    6.590000\n",
       "11    8.560000\n",
       "12    7.750000\n",
       "13    7.900000\n",
       "Name: hours, dtype: float64"
      ]
     },
     "execution_count": 15,
     "metadata": {},
     "output_type": "execute_result"
    }
   ],
   "source": [
    "data\n",
    "data.hours"
   ]
  },
  {
   "cell_type": "code",
   "execution_count": 19,
   "id": "fe905acc",
   "metadata": {},
   "outputs": [
    {
     "name": "stdout",
     "output_type": "stream",
     "text": [
      "(14, 3)\n"
     ]
    },
    {
     "data": {
      "text/plain": [
       "array([[ 6.83      , 15.        ,  1.        ],\n",
       "       [ 6.56      , 16.        ,  0.        ],\n",
       "       [ 7.20615385, 17.        ,  1.        ],\n",
       "       [ 5.67      , 18.        ,  0.        ],\n",
       "       [ 8.67      , 19.        ,  1.        ],\n",
       "       [ 7.55      , 20.        ,  0.        ],\n",
       "       [ 6.67      , 15.        ,  0.        ],\n",
       "       [ 8.99      , 16.        ,  0.        ],\n",
       "       [ 5.19      , 17.        ,  1.        ],\n",
       "       [ 6.75      , 18.        ,  0.        ],\n",
       "       [ 6.59      , 19.        ,  0.        ],\n",
       "       [ 8.56      , 20.        ,  1.        ],\n",
       "       [ 7.75      , 15.        ,  0.        ],\n",
       "       [ 7.9       , 16.        ,  1.        ]])"
      ]
     },
     "execution_count": 19,
     "metadata": {},
     "output_type": "execute_result"
    }
   ],
   "source": [
    "x= data.iloc[:, :-1].values\n",
    "print(x.shape)\n",
    "x"
   ]
  },
  {
   "cell_type": "code",
   "execution_count": 20,
   "id": "9e86abb9",
   "metadata": {},
   "outputs": [
    {
     "data": {
      "text/plain": [
       "array([78.5 , 76.64, 78.68, 71.82, 84.19, 81.18, 76.99, 85.46, 70.66,\n",
       "       77.82, 75.37, 83.88, 79.5 , 80.76])"
      ]
     },
     "execution_count": 20,
     "metadata": {},
     "output_type": "execute_result"
    }
   ],
   "source": [
    "y = data.iloc[:,-1].values\n",
    "y"
   ]
  },
  {
   "cell_type": "code",
   "execution_count": 21,
   "id": "f5ec143b",
   "metadata": {},
   "outputs": [
    {
     "data": {
      "text/plain": [
       "LinearRegression()"
      ]
     },
     "execution_count": 21,
     "metadata": {},
     "output_type": "execute_result"
    }
   ],
   "source": [
    "model = LinearRegression()\n",
    "model.fit(x,y)"
   ]
  },
  {
   "cell_type": "code",
   "execution_count": 24,
   "id": "152acabc",
   "metadata": {},
   "outputs": [
    {
     "name": "stdout",
     "output_type": "stream",
     "text": [
      "[75.09763792]\n"
     ]
    }
   ],
   "source": [
    "a=[[6.25,20,1]]\n",
    "PredictedmodelResult= model.predict(a)\n",
    "print(PredictedmodelResult)"
   ]
  },
  {
   "cell_type": "code",
   "execution_count": null,
   "id": "fe3c541d",
   "metadata": {},
   "outputs": [],
   "source": []
  }
 ],
 "metadata": {
  "kernelspec": {
   "display_name": "Python 3",
   "language": "python",
   "name": "python3"
  },
  "language_info": {
   "codemirror_mode": {
    "name": "ipython",
    "version": 3
   },
   "file_extension": ".py",
   "mimetype": "text/x-python",
   "name": "python",
   "nbconvert_exporter": "python",
   "pygments_lexer": "ipython3",
   "version": "3.8.8"
  }
 },
 "nbformat": 4,
 "nbformat_minor": 5
}
